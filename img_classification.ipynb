{
 "cells": [
  {
   "cell_type": "markdown",
   "metadata": {},
   "source": [
    "# Image classification "
   ]
  },
  {
   "cell_type": "code",
   "execution_count": 1,
   "metadata": {},
   "outputs": [
    {
     "name": "stdout",
     "output_type": "stream",
     "text": [
      "WARNING:tensorflow:From C:\\Users\\azary\\AppData\\Local\\Packages\\PythonSoftwareFoundation.Python.3.11_qbz5n2kfra8p0\\LocalCache\\local-packages\\Python311\\site-packages\\keras\\src\\losses.py:2976: The name tf.losses.sparse_softmax_cross_entropy is deprecated. Please use tf.compat.v1.losses.sparse_softmax_cross_entropy instead.\n",
      "\n",
      "2.15.0\n"
     ]
    }
   ],
   "source": [
    "import tensorflow as tf\n",
    "print(tf.__version__)"
   ]
  },
  {
   "cell_type": "code",
   "execution_count": 61,
   "metadata": {},
   "outputs": [],
   "source": [
    "# Import the necessary modules\n",
    "import zipfile,os\n",
    "import shutil\n",
    "from sklearn.model_selection import train_test_split\n",
    "\n",
    "# Define the path of the zip file\n",
    "local_zip = 'rockpaperscissors.zip'\n",
    "\n",
    "# Open the zip file in read mode\n",
    "zip_ref = zipfile.ZipFile(local_zip, 'r')\n",
    "\n",
    "# Extract all the contents of the zip file in /tmp directory\n",
    "zip_ref.extractall('/tmp')\n",
    "\n",
    "# Close the ZipFile object\n",
    "# zip_ref.close()\n",
    "\n",
    "# Define the base directory where the images are located\n",
    "base_dir = '/tmp/rockpaperscissors/rps-cv-images'\n",
    "\n",
    "# Define the directory for the training data\n",
    "rock_dir = os.path.join(base_dir, 'rock')\n",
    "paper_dir = os.path.join(base_dir, 'paper')\n",
    "scissors_dir = os.path.join(base_dir, 'scissors') "
   ]
  },
  {
   "cell_type": "code",
   "execution_count": 62,
   "metadata": {},
   "outputs": [],
   "source": [
    "train_dir = os.path.join(base_dir, 'train')\n",
    "validation_dir = os.path.join(base_dir, 'val')\n",
    "\n",
    "# Create directories\n",
    "os.makedirs(train_dir, exist_ok=True)\n",
    "os.makedirs(validation_dir, exist_ok=True)\n",
    "\n",
    "# Split the data by train/test for each directory\n",
    "train_rock_dir, val_rock_dir = train_test_split(os.listdir(rock_dir), test_size = 0.4)\n",
    "train_paper_dir, val_paper_dir = train_test_split(os.listdir(paper_dir), test_size = 0.4)\n",
    "train_scissors_dir, val_scissors_dir = train_test_split(os.listdir(scissors_dir), test_size = 0.4)"
   ]
  },
  {
   "cell_type": "code",
   "execution_count": 63,
   "metadata": {},
   "outputs": [],
   "source": [
    "# Function to move files\n",
    "def move_files(files, src_dir, dst_dir):\n",
    "    os.makedirs(dst_dir, exist_ok=True)  # Ensure the directory exists\n",
    "    for file in files:\n",
    "        shutil.move(os.path.join(src_dir, file), os.path.join(dst_dir, file))\n",
    "\n",
    "# Move the files\n",
    "move_files(train_rock_dir, rock_dir, os.path.join(train_dir, 'rock'))\n",
    "move_files(val_rock_dir, rock_dir, os.path.join(validation_dir, 'rock'))\n",
    "\n",
    "move_files(train_paper_dir, paper_dir, os.path.join(train_dir, 'paper'))\n",
    "move_files(val_paper_dir, paper_dir, os.path.join(validation_dir, 'paper'))\n",
    "\n",
    "move_files(train_scissors_dir, scissors_dir, os.path.join(train_dir, 'scissors'))\n",
    "move_files(val_scissors_dir, scissors_dir, os.path.join(validation_dir, 'scissors'))"
   ]
  },
  {
   "cell_type": "code",
   "execution_count": null,
   "metadata": {},
   "outputs": [],
   "source": []
  },
  {
   "cell_type": "code",
   "execution_count": 55,
   "metadata": {},
   "outputs": [
    {
     "name": "stdout",
     "output_type": "stream",
     "text": [
      "Jumlah gambar rock : 726\n",
      "Jumlah gambar paper : 712\n",
      "Jumlah gambar paper : 712\n"
     ]
    }
   ],
   "source": [
    "rocklen = len(os.listdir('/tmp/rockpaperscissors/rps-cv-images\\\\rock'))\n",
    "print(f'Jumlah gambar rock : {rocklen}')\n",
    "\n",
    "paperlen = len(os.listdir('/tmp/rockpaperscissors/rps-cv-images\\\\paper'))\n",
    "print(f'Jumlah gambar paper : {paperlen}')\n",
    "\n",
    "scissorslen = len(os.listdir('/tmp/rockpaperscissors/rps-cv-images\\\\paper'))\n",
    "print(f'Jumlah gambar paper : {scissorslen}')"
   ]
  },
  {
   "cell_type": "code",
   "execution_count": 40,
   "metadata": {},
   "outputs": [
    {
     "data": {
      "text/plain": [
       "435"
      ]
     },
     "execution_count": 40,
     "metadata": {},
     "output_type": "execute_result"
    }
   ],
   "source": [
    "rock_data = os.listdir(rock_dir)\n",
    "train_rock, val_rock = train_test_split(rock_data, test_size=0.4)\n",
    "len(train_rock)"
   ]
  },
  {
   "cell_type": "code",
   "execution_count": 47,
   "metadata": {},
   "outputs": [],
   "source": [
    "from sklearn.model_selection import train_test_split\n",
    "\n",
    "# Split the data into training and validation sets for each category\n",
    "rock_data = os.listdir(rock_dir)\n",
    "train_rock, val_rock = train_test_split(rock_data, test_size=0.4, random_state=5071)\n",
    "\n",
    "paper_data = os.listdir(paper_dir)\n",
    "train_paper, val_paper = train_test_split(paper_data, test_size=0.4, random_state=5071)\n",
    "\n",
    "scissors_data = os.listdir(scissors_dir)\n",
    "train_scissors, val_scissors = train_test_split(scissors_data, test_size=0.4, random_state=5071)"
   ]
  },
  {
   "cell_type": "code",
   "execution_count": 48,
   "metadata": {},
   "outputs": [
    {
     "name": "stdout",
     "output_type": "stream",
     "text": [
      "435\n",
      "427\n",
      "450\n"
     ]
    }
   ],
   "source": [
    "print(len(train_rock))\n",
    "print(len(train_paper))\n",
    "print(len(train_scissors))"
   ]
  },
  {
   "cell_type": "code",
   "execution_count": 49,
   "metadata": {},
   "outputs": [],
   "source": [
    "train_data = train_rock + train_paper + train_scissors\n",
    "val_data = val_rock + val_paper + val_scissors"
   ]
  },
  {
   "cell_type": "code",
   "execution_count": 51,
   "metadata": {},
   "outputs": [
    {
     "name": "stdout",
     "output_type": "stream",
     "text": [
      "Jumlah data train: 1312\n",
      "      \n",
      "Jumlah data test: 876\n"
     ]
    }
   ],
   "source": [
    "print(f'Jumlah data train: {len(train_data)}')  \n",
    "print('      ')\n",
    "print(f'Jumlah data test: {len(val_data)}')  "
   ]
  },
  {
   "cell_type": "code",
   "execution_count": 84,
   "metadata": {},
   "outputs": [
    {
     "name": "stdout",
     "output_type": "stream",
     "text": [
      "Found 1814 images belonging to 3 classes.\n"
     ]
    }
   ],
   "source": [
    "from tensorflow.keras.preprocessing.image import ImageDataGenerator\n",
    "\n",
    "train_datagen = ImageDataGenerator(\n",
    "                    rescale=1./255,\n",
    "                    rotation_range=20,\n",
    "                    horizontal_flip=True,\n",
    "                    shear_range = 0.2,\n",
    "                    fill_mode = 'nearest',\n",
    ")\n",
    "\n",
    "train_generator = train_datagen.flow_from_directory(\n",
    "    train_dir,  # should contain 3 subdirectories, one for each class\n",
    "    target_size=(150, 150),\n",
    "    batch_size=20,\n",
    "    class_mode='categorical'  # 'categorical' for multi-class labels\n",
    ")"
   ]
  },
  {
   "cell_type": "code",
   "execution_count": 85,
   "metadata": {},
   "outputs": [
    {
     "name": "stdout",
     "output_type": "stream",
     "text": [
      "Found 1378 images belonging to 3 classes.\n"
     ]
    }
   ],
   "source": [
    "test_datagen = ImageDataGenerator(\n",
    "                    rescale=1./255\n",
    ")\n",
    "\n",
    "\n",
    "validation_generator = test_datagen.flow_from_directory(\n",
    "    validation_dir,  # should contain 3 subdirectories, one for each class\n",
    "    target_size=(150, 150),\n",
    "    batch_size=20,\n",
    "    class_mode='categorical'  # 'categorical' for multi-class labels\n",
    ")"
   ]
  },
  {
   "cell_type": "code",
   "execution_count": 86,
   "metadata": {},
   "outputs": [
    {
     "name": "stdout",
     "output_type": "stream",
     "text": [
      "Label Mappings for classes present in the training and validation datasets\n",
      "\n",
      "0 : paper\n",
      "1 : rock\n",
      "2 : scissors\n"
     ]
    }
   ],
   "source": [
    "labels = {value: key for key, value in train_generator.class_indices.items()}\n",
    "\n",
    "print(\"Label Mappings for classes present in the training and validation datasets\\n\")\n",
    "for key, value in labels.items():\n",
    "    print(f\"{key} : {value}\")"
   ]
  },
  {
   "cell_type": "code",
   "execution_count": 87,
   "metadata": {},
   "outputs": [
    {
     "data": {
      "text/plain": [
       "{0: 'paper', 1: 'rock', 2: 'scissors'}"
      ]
     },
     "execution_count": 87,
     "metadata": {},
     "output_type": "execute_result"
    }
   ],
   "source": [
    "labels"
   ]
  },
  {
   "cell_type": "code",
   "execution_count": 88,
   "metadata": {},
   "outputs": [],
   "source": [
    "model = tf.keras.models.Sequential([\n",
    "    tf.keras.layers.Conv2D(32, (3,3), activation='relu', input_shape=(150,150,3)), \n",
    "    tf.keras.layers.MaxPooling2D(2,2),\n",
    "\n",
    "    tf.keras.layers.Conv2D(64, (3,3), activation='relu'),\n",
    "    tf.keras.layers.MaxPooling2D(2,2),\n",
    "\n",
    "    tf.keras.layers.Conv2D(128, (3,3), activation='relu'),\n",
    "    tf.keras.layers.MaxPooling2D(2,2),\n",
    "\n",
    "    tf.keras.layers.Conv2D(256, (3,3), activation='relu'),\n",
    "    tf.keras.layers.MaxPooling2D(2,2),\n",
    "\n",
    "    tf.keras.layers.Flatten(),\n",
    "    tf.keras.layers.Dense(512, activation='relu'),\n",
    "\n",
    "    tf.keras.layers.Dense(3, activation='softmax')\n",
    "])   "
   ]
  },
  {
   "cell_type": "code",
   "execution_count": 89,
   "metadata": {},
   "outputs": [
    {
     "name": "stdout",
     "output_type": "stream",
     "text": [
      "Model: \"sequential_2\"\n",
      "_________________________________________________________________\n",
      " Layer (type)                Output Shape              Param #   \n",
      "=================================================================\n",
      " conv2d_8 (Conv2D)           (None, 148, 148, 32)      896       \n",
      "                                                                 \n",
      " max_pooling2d_8 (MaxPoolin  (None, 74, 74, 32)        0         \n",
      " g2D)                                                            \n",
      "                                                                 \n",
      " conv2d_9 (Conv2D)           (None, 72, 72, 64)        18496     \n",
      "                                                                 \n",
      " max_pooling2d_9 (MaxPoolin  (None, 36, 36, 64)        0         \n",
      " g2D)                                                            \n",
      "                                                                 \n",
      " conv2d_10 (Conv2D)          (None, 34, 34, 128)       73856     \n",
      "                                                                 \n",
      " max_pooling2d_10 (MaxPooli  (None, 17, 17, 128)       0         \n",
      " ng2D)                                                           \n",
      "                                                                 \n",
      " conv2d_11 (Conv2D)          (None, 15, 15, 256)       295168    \n",
      "                                                                 \n",
      " max_pooling2d_11 (MaxPooli  (None, 7, 7, 256)         0         \n",
      " ng2D)                                                           \n",
      "                                                                 \n",
      " flatten_2 (Flatten)         (None, 12544)             0         \n",
      "                                                                 \n",
      " dense_4 (Dense)             (None, 512)               6423040   \n",
      "                                                                 \n",
      " dense_5 (Dense)             (None, 3)                 1539      \n",
      "                                                                 \n",
      "=================================================================\n",
      "Total params: 6812995 (25.99 MB)\n",
      "Trainable params: 6812995 (25.99 MB)\n",
      "Non-trainable params: 0 (0.00 Byte)\n",
      "_________________________________________________________________\n"
     ]
    }
   ],
   "source": [
    "model.summary()"
   ]
  },
  {
   "cell_type": "code",
   "execution_count": 90,
   "metadata": {},
   "outputs": [],
   "source": [
    "model.compile(optimizer=tf.optimizers.Adam(),\n",
    "              loss='categorical_crossentropy',\n",
    "              metrics=['accuracy'])"
   ]
  },
  {
   "cell_type": "code",
   "execution_count": 91,
   "metadata": {},
   "outputs": [
    {
     "name": "stdout",
     "output_type": "stream",
     "text": [
      "Epoch 1/15\n",
      "91/91 - 39s - loss: 0.8119 - accuracy: 0.6080 - val_loss: 0.2671 - val_accuracy: 0.9136 - 39s/epoch - 426ms/step\n",
      "Epoch 2/15\n",
      "91/91 - 33s - loss: 0.2733 - accuracy: 0.9013 - val_loss: 0.2155 - val_accuracy: 0.9238 - 33s/epoch - 359ms/step\n",
      "Epoch 3/15\n",
      "91/91 - 36s - loss: 0.1997 - accuracy: 0.9305 - val_loss: 0.1898 - val_accuracy: 0.9311 - 36s/epoch - 393ms/step\n",
      "Epoch 4/15\n",
      "91/91 - 32s - loss: 0.1542 - accuracy: 0.9520 - val_loss: 0.1178 - val_accuracy: 0.9601 - 32s/epoch - 347ms/step\n",
      "Epoch 5/15\n",
      "91/91 - 29s - loss: 0.1305 - accuracy: 0.9537 - val_loss: 0.2397 - val_accuracy: 0.9231 - 29s/epoch - 319ms/step\n",
      "Epoch 6/15\n",
      "91/91 - 29s - loss: 0.1129 - accuracy: 0.9636 - val_loss: 0.0798 - val_accuracy: 0.9710 - 29s/epoch - 319ms/step\n",
      "Epoch 7/15\n",
      "91/91 - 31s - loss: 0.0935 - accuracy: 0.9653 - val_loss: 0.0438 - val_accuracy: 0.9920 - 31s/epoch - 342ms/step\n",
      "Epoch 8/15\n",
      "91/91 - 36s - loss: 0.0655 - accuracy: 0.9813 - val_loss: 0.0325 - val_accuracy: 0.9920 - 36s/epoch - 400ms/step\n",
      "Epoch 9/15\n",
      "91/91 - 53s - loss: 0.0571 - accuracy: 0.9785 - val_loss: 0.0260 - val_accuracy: 0.9942 - 53s/epoch - 583ms/step\n",
      "Epoch 10/15\n",
      "91/91 - 58s - loss: 0.0492 - accuracy: 0.9873 - val_loss: 0.0201 - val_accuracy: 0.9956 - 58s/epoch - 639ms/step\n",
      "Epoch 11/15\n",
      "91/91 - 59s - loss: 0.0515 - accuracy: 0.9802 - val_loss: 0.0240 - val_accuracy: 0.9942 - 59s/epoch - 651ms/step\n",
      "Epoch 12/15\n",
      "91/91 - 54s - loss: 0.0239 - accuracy: 0.9928 - val_loss: 0.0397 - val_accuracy: 0.9913 - 54s/epoch - 589ms/step\n",
      "Epoch 13/15\n",
      "91/91 - 33s - loss: 0.0279 - accuracy: 0.9906 - val_loss: 0.0197 - val_accuracy: 0.9935 - 33s/epoch - 366ms/step\n",
      "Epoch 14/15\n",
      "91/91 - 50s - loss: 0.0457 - accuracy: 0.9873 - val_loss: 0.0105 - val_accuracy: 0.9964 - 50s/epoch - 555ms/step\n",
      "Epoch 15/15\n",
      "91/91 - 58s - loss: 0.0409 - accuracy: 0.9873 - val_loss: 0.0317 - val_accuracy: 0.9935 - 58s/epoch - 635ms/step\n"
     ]
    },
    {
     "data": {
      "text/plain": [
       "<keras.src.callbacks.History at 0x2a71c4ff650>"
      ]
     },
     "execution_count": 91,
     "metadata": {},
     "output_type": "execute_result"
    }
   ],
   "source": [
    "model.fit(\n",
    "    train_generator,\n",
    "    epochs=15,\n",
    "    validation_data=validation_generator,\n",
    "    verbose=2\n",
    ")"
   ]
  },
  {
   "cell_type": "code",
   "execution_count": null,
   "metadata": {},
   "outputs": [],
   "source": []
  },
  {
   "cell_type": "code",
   "execution_count": 44,
   "metadata": {},
   "outputs": [
    {
     "name": "stdout",
     "output_type": "stream",
     "text": [
      "The image size is 300 pixels wide and 200 pixels high.\n"
     ]
    }
   ],
   "source": [
    "from PIL import Image\n",
    "\n",
    "# Open an image file\n",
    "img = Image.open('../tangan.png')\n",
    "# Get image size\n",
    "width, height = img.size\n",
    "\n",
    "print(f\"The image size is {width} pixels wide and {height} pixels high.\")"
   ]
  }
 ],
 "metadata": {
  "kernelspec": {
   "display_name": "Python 3",
   "language": "python",
   "name": "python3"
  },
  "language_info": {
   "codemirror_mode": {
    "name": "ipython",
    "version": 3
   },
   "file_extension": ".py",
   "mimetype": "text/x-python",
   "name": "python",
   "nbconvert_exporter": "python",
   "pygments_lexer": "ipython3",
   "version": "3.11.7"
  }
 },
 "nbformat": 4,
 "nbformat_minor": 2
}
